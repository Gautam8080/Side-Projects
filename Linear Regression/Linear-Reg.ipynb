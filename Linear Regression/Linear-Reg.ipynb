{
 "cells": [
  {
   "cell_type": "code",
   "execution_count": 1,
   "metadata": {
    "collapsed": true
   },
   "outputs": [],
   "source": [
    "# Import Liabraries\n",
    "import numpy as np # Linear Algebra Matrices \n",
    "import pandas as pd # Dataframe Creation Manipulation\n",
    "import matplotlib.pyplot as plt # Plotting"
   ]
  },
  {
   "cell_type": "code",
   "execution_count": 2,
   "metadata": {
    "collapsed": true
   },
   "outputs": [],
   "source": [
    "# Import the Data\n",
    "dataset = pd.read_csv('winequality-red.csv')\n",
    "dataset['intercept'] = 1 # Add One's to the Dataframe\n",
    "\n",
    "# Features or specific headings that we will be using\n",
    "X_features = ['intercept', 'residual sugar']\n",
    "y_features = ['alcohol']"
   ]
  },
  {
   "cell_type": "code",
   "execution_count": 3,
   "metadata": {
    "collapsed": true
   },
   "outputs": [],
   "source": [
    "# For Polynomial Fitting\n",
    "degree = 1\n",
    "for i in range(2,degree+1):\n",
    "    dataset[X_features[1] + '^'+str(i)] = dataset[X_features[1]]**degree\n",
    "#Here we are squaring the the X features to  fit the polynomial instead of a straight line"
   ]
  },
  {
   "cell_type": "code",
   "execution_count": 4,
   "metadata": {},
   "outputs": [
    {
     "data": {
      "text/html": [
       "<div>\n",
       "<style>\n",
       "    .dataframe thead tr:only-child th {\n",
       "        text-align: right;\n",
       "    }\n",
       "\n",
       "    .dataframe thead th {\n",
       "        text-align: left;\n",
       "    }\n",
       "\n",
       "    .dataframe tbody tr th {\n",
       "        vertical-align: top;\n",
       "    }\n",
       "</style>\n",
       "<table border=\"1\" class=\"dataframe\">\n",
       "  <thead>\n",
       "    <tr style=\"text-align: right;\">\n",
       "      <th></th>\n",
       "      <th>fixed acidity</th>\n",
       "      <th>volatile acidity</th>\n",
       "      <th>citric acid</th>\n",
       "      <th>residual sugar</th>\n",
       "      <th>chlorides</th>\n",
       "      <th>free sulfur dioxide</th>\n",
       "      <th>total sulfur dioxide</th>\n",
       "      <th>density</th>\n",
       "      <th>pH</th>\n",
       "      <th>sulphates</th>\n",
       "      <th>alcohol</th>\n",
       "      <th>quality</th>\n",
       "      <th>intercept</th>\n",
       "    </tr>\n",
       "  </thead>\n",
       "  <tbody>\n",
       "    <tr>\n",
       "      <th>0</th>\n",
       "      <td>7.4</td>\n",
       "      <td>0.70</td>\n",
       "      <td>0.00</td>\n",
       "      <td>1.9</td>\n",
       "      <td>0.076</td>\n",
       "      <td>11.0</td>\n",
       "      <td>34.0</td>\n",
       "      <td>0.9978</td>\n",
       "      <td>3.51</td>\n",
       "      <td>0.56</td>\n",
       "      <td>9.4</td>\n",
       "      <td>5</td>\n",
       "      <td>1</td>\n",
       "    </tr>\n",
       "    <tr>\n",
       "      <th>1</th>\n",
       "      <td>7.8</td>\n",
       "      <td>0.88</td>\n",
       "      <td>0.00</td>\n",
       "      <td>2.6</td>\n",
       "      <td>0.098</td>\n",
       "      <td>25.0</td>\n",
       "      <td>67.0</td>\n",
       "      <td>0.9968</td>\n",
       "      <td>3.20</td>\n",
       "      <td>0.68</td>\n",
       "      <td>9.8</td>\n",
       "      <td>5</td>\n",
       "      <td>1</td>\n",
       "    </tr>\n",
       "    <tr>\n",
       "      <th>2</th>\n",
       "      <td>7.8</td>\n",
       "      <td>0.76</td>\n",
       "      <td>0.04</td>\n",
       "      <td>2.3</td>\n",
       "      <td>0.092</td>\n",
       "      <td>15.0</td>\n",
       "      <td>54.0</td>\n",
       "      <td>0.9970</td>\n",
       "      <td>3.26</td>\n",
       "      <td>0.65</td>\n",
       "      <td>9.8</td>\n",
       "      <td>5</td>\n",
       "      <td>1</td>\n",
       "    </tr>\n",
       "    <tr>\n",
       "      <th>3</th>\n",
       "      <td>11.2</td>\n",
       "      <td>0.28</td>\n",
       "      <td>0.56</td>\n",
       "      <td>1.9</td>\n",
       "      <td>0.075</td>\n",
       "      <td>17.0</td>\n",
       "      <td>60.0</td>\n",
       "      <td>0.9980</td>\n",
       "      <td>3.16</td>\n",
       "      <td>0.58</td>\n",
       "      <td>9.8</td>\n",
       "      <td>6</td>\n",
       "      <td>1</td>\n",
       "    </tr>\n",
       "    <tr>\n",
       "      <th>4</th>\n",
       "      <td>7.4</td>\n",
       "      <td>0.70</td>\n",
       "      <td>0.00</td>\n",
       "      <td>1.9</td>\n",
       "      <td>0.076</td>\n",
       "      <td>11.0</td>\n",
       "      <td>34.0</td>\n",
       "      <td>0.9978</td>\n",
       "      <td>3.51</td>\n",
       "      <td>0.56</td>\n",
       "      <td>9.4</td>\n",
       "      <td>5</td>\n",
       "      <td>1</td>\n",
       "    </tr>\n",
       "  </tbody>\n",
       "</table>\n",
       "</div>"
      ],
      "text/plain": [
       "   fixed acidity  volatile acidity  citric acid  residual sugar  chlorides  \\\n",
       "0            7.4              0.70         0.00             1.9      0.076   \n",
       "1            7.8              0.88         0.00             2.6      0.098   \n",
       "2            7.8              0.76         0.04             2.3      0.092   \n",
       "3           11.2              0.28         0.56             1.9      0.075   \n",
       "4            7.4              0.70         0.00             1.9      0.076   \n",
       "\n",
       "   free sulfur dioxide  total sulfur dioxide  density    pH  sulphates  \\\n",
       "0                 11.0                  34.0   0.9978  3.51       0.56   \n",
       "1                 25.0                  67.0   0.9968  3.20       0.68   \n",
       "2                 15.0                  54.0   0.9970  3.26       0.65   \n",
       "3                 17.0                  60.0   0.9980  3.16       0.58   \n",
       "4                 11.0                  34.0   0.9978  3.51       0.56   \n",
       "\n",
       "   alcohol  quality  intercept  \n",
       "0      9.4        5          1  \n",
       "1      9.8        5          1  \n",
       "2      9.8        5          1  \n",
       "3      9.8        6          1  \n",
       "4      9.4        5          1  "
      ]
     },
     "execution_count": 4,
     "metadata": {},
     "output_type": "execute_result"
    }
   ],
   "source": [
    "dataset.head(5)"
   ]
  },
  {
   "cell_type": "code",
   "execution_count": 5,
   "metadata": {},
   "outputs": [
    {
     "data": {
      "image/png": "[encoded data removed]",
      "text/plain": [
       "<matplotlib.figure.Figure at 0x1fe1f26c8d0>"
      ]
     },
     "metadata": {},
     "output_type": "display_data"
    }
   ],
   "source": [
    "plt.scatter(dataset[X_features[1]],dataset[y_features[0]])\n",
    "plt.show()"
   ]
  },
  {
   "cell_type": "code",
   "execution_count": 6,
   "metadata": {
    "collapsed": true
   },
   "outputs": [],
   "source": [
    "X = dataset[X_features]\n",
    "y = dataset[y_features]"
   ]
  },
  {
   "cell_type": "code",
   "execution_count": 7,
   "metadata": {},
   "outputs": [
    {
     "name": "stdout",
     "output_type": "stream",
     "text": [
      "Predictor:  [[ 1.   1.9]\n",
      " [ 1.   2.6]\n",
      " [ 1.   2.3]\n",
      " ..., \n",
      " [ 1.   2.3]\n",
      " [ 1.   2. ]\n",
      " [ 1.   3.6]]\n",
      "Predictions:  [[  9.4]\n",
      " [  9.8]\n",
      " [  9.8]\n",
      " ..., \n",
      " [ 11. ]\n",
      " [ 10.2]\n",
      " [ 11. ]]\n"
     ]
    }
   ],
   "source": [
    "X = np.array(X)\n",
    "y = np.array(y).reshape(len(y),1)\n",
    "\n",
    "# Feature Scaling\n",
    "# X[:,1] = (X[:,1] - np.mean(X[:,1])) / (max(X[:,1])-min(X[:,1]))\n",
    "# y = (y-np.mean(y))/(max(y)-min(y))\n",
    "\n",
    "print('Predictor: ', X)\n",
    "print('Predictions: ', y)\n"
   ]
  },
  {
   "cell_type": "code",
   "execution_count": 8,
   "metadata": {},
   "outputs": [
    {
     "name": "stdout",
     "output_type": "stream",
     "text": [
      "[[ 0.65397139]\n",
      " [ 0.1843575 ]]\n"
     ]
    }
   ],
   "source": [
    "# Intitial Random Weight\n",
    "weights = np.random.rand(X.shape[1],1) # [w0, w1] -> w0 = c intercept, w1 = m -> slope\n",
    "print(weights)"
   ]
  },
  {
   "cell_type": "code",
   "execution_count": 9,
   "metadata": {},
   "outputs": [
    {
     "name": "stdout",
     "output_type": "stream",
     "text": [
      "(1599, 2)\n",
      "(2, 1)\n",
      "(1599, 1)\n"
     ]
    }
   ],
   "source": [
    "print(X.shape)\n",
    "print(weights.shape)\n",
    "print(y.shape)"
   ]
  },
  {
   "cell_type": "code",
   "execution_count": 10,
   "metadata": {
    "collapsed": true
   },
   "outputs": [],
   "source": [
    "# Cost Function\n",
    "def costFunc(X, y, weights):\n",
    "    h = np.dot(X,weights)\n",
    "    J = 0.5*sum( np.subtract(h,y)**2 )/len(y)\n",
    "    return J\n",
    "#here cost function is (1/2(sigma((mx+c) - y)^2))/ number of labels y "
   ]
  },
  {
   "cell_type": "code",
   "execution_count": 19,
   "metadata": {},
   "outputs": [
    {
     "data": {
      "image/png": "[encoded data removed]",
      "text/plain": [
       "<matplotlib.figure.Figure at 0x1fe20c24898>"
      ]
     },
     "metadata": {},
     "output_type": "display_data"
    },
    {
     "name": "stdout",
     "output_type": "stream",
     "text": [
      "Initial Cost:  [ 41.41053127]\n"
     ]
    }
   ],
   "source": [
    "plt.scatter(X[:,1],y)\n",
    "random_weight = np.random.rand(X.shape[1],1)\n",
    "plt.plot(X[:,1],np.dot(X,random_weight))\n",
    "plt.show()\n",
    "print('Initial Cost: ', costFunc(X,y,random_weight))"
   ]
  },
  {
   "cell_type": "code",
   "execution_count": 12,
   "metadata": {
    "collapsed": true
   },
   "outputs": [],
   "source": [
    "def gradientDecent(X,y,initial_weights,learning_rate, number_of_iterations):\n",
    "    dJ = np.zeros([X.shape[1], 1])\n",
    "    for i in range(0,number_of_iterations):\n",
    "        h = np.dot(X,initial_weights)\n",
    "        for j in range(0,len(dJ)-1):\n",
    "            dJ[j] = sum(np.subtract(h,y)*X[:,j].reshape(len(X),1))\n",
    "        initial_weights = np.subtract(initial_weights, (learning_rate/len(y))*dJ)\n",
    "        print('Cost at iteration ', i+1, 'is: ', costFunc(X,y,initial_weights))\n",
    "        print('Weights:', initial_weights)\n",
    "\n",
    "    return initial_weights"
   ]
  },
  {
   "cell_type": "code",
   "execution_count": 13,
   "metadata": {
    "collapsed": true
   },
   "outputs": [],
   "source": [
    "def train(learning_rate, max_iter):\n",
    "    new_weights = gradientDecent(X,y,weights,learning_rate,max_iter)\n",
    "    plt.scatter(X[:,1],y)\n",
    "    plt.plot(X[:,1],np.dot(X,new_weights))\n",
    "    plt.show()\n",
    "    print('Cost: ', costFunc(X,y,new_weights))\n",
    "    return new_weights\n",
    "\n",
    "def predict(X, new_weights):\n",
    "    X = np.concatenate((np.ones([len(X),1]), X), axis=1)\n",
    "    predictions = np.dot(X,new_weights)\n",
    "    return predictions"
   ]
  },
  {
   "cell_type": "code",
   "execution_count": 20,
   "metadata": {},
   "outputs": [
    {
     "name": "stdout",
     "output_type": "stream",
     "text": [
      "Cost at iteration  1 is:  [ 35.62529325]\n",
      "Weights: [[ 1.58406778]\n",
      " [ 0.1843575 ]]\n",
      "Cost at iteration  2 is:  [ 28.96850809]\n",
      "Weights: [[ 2.42115453]\n",
      " [ 0.1843575 ]]\n",
      "Cost at iteration  3 is:  [ 23.57651211]\n",
      "Weights: [[ 3.1745326]\n",
      " [ 0.1843575]]\n",
      "Cost at iteration  4 is:  [ 19.20899536]\n",
      "Weights: [[ 3.85257287]\n",
      " [ 0.1843575 ]]\n",
      "Cost at iteration  5 is:  [ 15.6713068]\n",
      "Weights: [[ 4.46280911]\n",
      " [ 0.1843575 ]]\n",
      "Cost at iteration  6 is:  [ 12.80577906]\n",
      "Weights: [[ 5.01202173]\n",
      " [ 0.1843575 ]]\n",
      "Cost at iteration  7 is:  [ 10.4847016]\n",
      "Weights: [[ 5.50631308]\n",
      " [ 0.1843575 ]]\n",
      "Cost at iteration  8 is:  [ 8.60462885]\n",
      "Weights: [[ 5.9511753]\n",
      " [ 0.1843575]]\n",
      "Cost at iteration  9 is:  [ 7.08176992]\n",
      "Weights: [[ 6.3515513]\n",
      " [ 0.1843575]]\n",
      "Cost at iteration  10 is:  [ 5.84825419]\n",
      "Weights: [[ 6.7118897]\n",
      " [ 0.1843575]]\n",
      "Cost at iteration  11 is:  [ 4.84910645]\n",
      "Weights: [[ 7.03619426]\n",
      " [ 0.1843575 ]]\n",
      "Cost at iteration  12 is:  [ 4.03979678]\n",
      "Weights: [[ 7.32806836]\n",
      " [ 0.1843575 ]]\n",
      "Cost at iteration  13 is:  [ 3.38425595]\n",
      "Weights: [[ 7.59075505]\n",
      " [ 0.1843575 ]]\n",
      "Cost at iteration  14 is:  [ 2.85326787]\n",
      "Weights: [[ 7.82717307]\n",
      " [ 0.1843575 ]]\n",
      "Cost at iteration  15 is:  [ 2.42316753]\n",
      "Weights: [[ 8.03994929]\n",
      " [ 0.1843575 ]]\n",
      "Cost at iteration  16 is:  [ 2.07478626]\n",
      "Weights: [[ 8.23144789]\n",
      " [ 0.1843575 ]]\n",
      "Cost at iteration  17 is:  [ 1.79259742]\n",
      "Weights: [[ 8.40379663]\n",
      " [ 0.1843575 ]]\n",
      "Cost at iteration  18 is:  [ 1.56402447]\n",
      "Weights: [[ 8.5589105]\n",
      " [ 0.1843575]]\n",
      "Cost at iteration  19 is:  [ 1.37888038]\n",
      "Weights: [[ 8.69851297]\n",
      " [ 0.1843575 ]]\n",
      "Cost at iteration  20 is:  [ 1.22891366]\n",
      "Weights: [[ 8.8241552]\n",
      " [ 0.1843575]]\n",
      "Cost at iteration  21 is:  [ 1.10744062]\n",
      "Weights: [[ 8.93723321]\n",
      " [ 0.1843575 ]]\n",
      "Cost at iteration  22 is:  [ 1.00904746]\n",
      "Weights: [[ 9.03900342]\n",
      " [ 0.1843575 ]]\n",
      "Cost at iteration  23 is:  [ 0.929349]\n",
      "Weights: [[ 9.1305966]\n",
      " [ 0.1843575]]\n",
      "Cost at iteration  24 is:  [ 0.86479324]\n",
      "Weights: [[ 9.21303047]\n",
      " [ 0.1843575 ]]\n",
      "Cost at iteration  25 is:  [ 0.81250308]\n",
      "Weights: [[ 9.28722095]\n",
      " [ 0.1843575 ]]\n",
      "Cost at iteration  26 is:  [ 0.77014805]\n",
      "Weights: [[ 9.35399239]\n",
      " [ 0.1843575 ]]\n",
      "Cost at iteration  27 is:  [ 0.73584048]\n",
      "Weights: [[ 9.41408667]\n",
      " [ 0.1843575 ]]\n",
      "Cost at iteration  28 is:  [ 0.70805134]\n",
      "Weights: [[ 9.46817154]\n",
      " [ 0.1843575 ]]\n",
      "Cost at iteration  29 is:  [ 0.68554214]\n",
      "Weights: [[ 9.51684791]\n",
      " [ 0.1843575 ]]\n",
      "Cost at iteration  30 is:  [ 0.66730969]\n",
      "Weights: [[ 9.56065665]\n",
      " [ 0.1843575 ]]\n",
      "Cost at iteration  31 is:  [ 0.65254141]\n",
      "Weights: [[ 9.60008451]\n",
      " [ 0.1843575 ]]\n",
      "Cost at iteration  32 is:  [ 0.64057909]\n",
      "Weights: [[ 9.63556959]\n",
      " [ 0.1843575 ]]\n",
      "Cost at iteration  33 is:  [ 0.63088962]\n",
      "Weights: [[ 9.66750616]\n",
      " [ 0.1843575 ]]\n",
      "Cost at iteration  34 is:  [ 0.62304115]\n",
      "Weights: [[ 9.69624907]\n",
      " [ 0.1843575 ]]\n",
      "Cost at iteration  35 is:  [ 0.61668389]\n",
      "Weights: [[ 9.72211769]\n",
      " [ 0.1843575 ]]\n",
      "Cost at iteration  36 is:  [ 0.6115345]\n",
      "Weights: [[ 9.74539945]\n",
      " [ 0.1843575 ]]\n",
      "Cost at iteration  37 is:  [ 0.6073635]\n",
      "Weights: [[ 9.76635303]\n",
      " [ 0.1843575 ]]\n",
      "Cost at iteration  38 is:  [ 0.60398499]\n",
      "Weights: [[ 9.78521126]\n",
      " [ 0.1843575 ]]\n",
      "Cost at iteration  39 is:  [ 0.6012484]\n",
      "Weights: [[ 9.80218366]\n",
      " [ 0.1843575 ]]\n",
      "Cost at iteration  40 is:  [ 0.59903176]\n",
      "Weights: [[ 9.81745882]\n",
      " [ 0.1843575 ]]\n",
      "Cost at iteration  41 is:  [ 0.59723628]\n",
      "Weights: [[ 9.83120647]\n",
      " [ 0.1843575 ]]\n",
      "Cost at iteration  42 is:  [ 0.59578194]\n",
      "Weights: [[ 9.84357935]\n",
      " [ 0.1843575 ]]\n",
      "Cost at iteration  43 is:  [ 0.59460393]\n",
      "Weights: [[ 9.85471494]\n",
      " [ 0.1843575 ]]\n",
      "Cost at iteration  44 is:  [ 0.59364974]\n",
      "Weights: [[ 9.86473697]\n",
      " [ 0.1843575 ]]\n",
      "Cost at iteration  45 is:  [ 0.59287684]\n",
      "Weights: [[ 9.8737568]\n",
      " [ 0.1843575]]\n",
      "Cost at iteration  46 is:  [ 0.5922508]\n",
      "Weights: [[ 9.88187465]\n",
      " [ 0.1843575 ]]\n",
      "Cost at iteration  47 is:  [ 0.5917437]\n",
      "Weights: [[ 9.88918071]\n",
      " [ 0.1843575 ]]\n",
      "Cost at iteration  48 is:  [ 0.59133296]\n",
      "Weights: [[ 9.89575617]\n",
      " [ 0.1843575 ]]\n",
      "Cost at iteration  49 is:  [ 0.59100025]\n",
      "Weights: [[ 9.90167408]\n",
      " [ 0.1843575 ]]\n",
      "Cost at iteration  50 is:  [ 0.59073076]\n",
      "Weights: [[ 9.9070002]\n",
      " [ 0.1843575]]\n"
     ]
    },
    {
     "data": {
      "image/png": "[encoded data removed]",
      "text/plain": [
       "<matplotlib.figure.Figure at 0x1fe20ccebe0>"
      ]
     },
     "metadata": {},
     "output_type": "display_data"
    },
    {
     "name": "stdout",
     "output_type": "stream",
     "text": [
      "Cost:  [ 0.59073076]\n"
     ]
    }
   ],
   "source": [
    "w = train(0.1, 50)"
   ]
  },
  {
   "cell_type": "code",
   "execution_count": 21,
   "metadata": {},
   "outputs": [
    {
     "data": {
      "text/plain": [
       "array([[ 10.25727945],\n",
       "       [ 10.3863297 ],\n",
       "       [ 10.33102245],\n",
       "       ..., \n",
       "       [ 10.33102245],\n",
       "       [ 10.2757152 ],\n",
       "       [ 10.5706872 ]])"
      ]
     },
     "execution_count": 21,
     "metadata": {},
     "output_type": "execute_result"
    }
   ],
   "source": [
    "test_vals = np.array(X[:,1:])\n",
    "predict(test_vals, w)"
   ]
  },
  {
   "cell_type": "code",
   "execution_count": 16,
   "metadata": {},
   "outputs": [
    {
     "data": {
      "text/plain": [
       "(1599, 2)"
      ]
     },
     "execution_count": 16,
     "metadata": {},
     "output_type": "execute_result"
    }
   ],
   "source": [
    "X.shape"
   ]
  },
  {
   "cell_type": "code",
   "execution_count": null,
   "metadata": {
    "collapsed": true
   },
   "outputs": [],
   "source": []
  }
 ],
 "metadata": {
  "kernelspec": {
   "display_name": "Python 3",
   "language": "python",
   "name": "python3"
  },
  "language_info": {
   "codemirror_mode": {
    "name": "ipython",
    "version": 3
   },
   "file_extension": ".py",
   "mimetype": "text/x-python",
   "name": "python",
   "nbconvert_exporter": "python",
   "pygments_lexer": "ipython3",
   "version": "3.6.3"
  }
 },
 "nbformat": 4,
 "nbformat_minor": 1
}
